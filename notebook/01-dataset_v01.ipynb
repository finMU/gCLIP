{
 "cells": [
  {
   "cell_type": "markdown",
   "metadata": {},
   "source": [
    "# CLIP - Dataset"
   ]
  },
  {
   "cell_type": "markdown",
   "metadata": {},
   "source": [
    "## 0. imports"
   ]
  },
  {
   "cell_type": "code",
   "execution_count": 1,
   "metadata": {},
   "outputs": [
    {
     "data": {
      "text/html": [
       "\n",
       "                <script type=\"application/javascript\" id=\"jupyter_black\">\n",
       "                (function() {\n",
       "                    if (window.IPython === undefined) {\n",
       "                        return\n",
       "                    }\n",
       "                    var msg = \"WARNING: it looks like you might have loaded \" +\n",
       "                        \"jupyter_black in a non-lab notebook with \" +\n",
       "                        \"`is_lab=True`. Please double check, and if \" +\n",
       "                        \"loading with `%load_ext` please review the README!\"\n",
       "                    console.log(msg)\n",
       "                    alert(msg)\n",
       "                })()\n",
       "                </script>\n",
       "                "
      ],
      "text/plain": [
       "<IPython.core.display.HTML object>"
      ]
     },
     "metadata": {},
     "output_type": "display_data"
    }
   ],
   "source": [
    "%load_ext jupyter_black"
   ]
  },
  {
   "cell_type": "code",
   "execution_count": 2,
   "metadata": {},
   "outputs": [],
   "source": [
    "import os\n",
    "import random\n",
    "\n",
    "import cv2\n",
    "import numpy as np\n",
    "import pandas as pd\n",
    "\n",
    "import albumentations as A\n",
    "from albumentations.pytorch import ToTensorV2\n",
    "\n",
    "import torch\n",
    "import torch.nn as nn\n",
    "import torch.nn.functional as F\n",
    "from torch.utils.data import Dataset, DataLoader\n",
    "\n",
    "import transformers\n",
    "from transformers import AutoTokenizer, AutoModel\n",
    "\n",
    "from sklearn.model_selection import train_test_split"
   ]
  },
  {
   "cell_type": "code",
   "execution_count": 3,
   "metadata": {},
   "outputs": [],
   "source": [
    "os.environ[\"TOKENIZERS_PARALLELISM\"] = \"false\""
   ]
  },
  {
   "cell_type": "markdown",
   "metadata": {},
   "source": [
    "## 1. Dataset - Line by Line"
   ]
  },
  {
   "cell_type": "markdown",
   "metadata": {},
   "source": [
    "### 1.1 image - transform"
   ]
  },
  {
   "cell_type": "code",
   "execution_count": 4,
   "metadata": {},
   "outputs": [],
   "source": [
    "def get_transform(img_size: int, max_pixel_value: float = 255.0, stage: str = \"train\"):\n",
    "    if stage == \"train\":\n",
    "        transform = A.Compose(\n",
    "            [\n",
    "                A.Resize(img_size, img_size, always_apply=True),\n",
    "                A.Normalize(max_pixel_value=max_pixel_value, always_apply=True),\n",
    "                ToTensorV2(),\n",
    "            ]\n",
    "        )\n",
    "    else:\n",
    "        transform = A.Compose(\n",
    "            [\n",
    "                A.Resize(img_size, img_size, always_apply=True),\n",
    "                A.Normalize(max_pixel_value=max_pixel_value, always_apply=True),\n",
    "                ToTensorV2(),\n",
    "            ]\n",
    "        )\n",
    "\n",
    "    return transform"
   ]
  },
  {
   "cell_type": "code",
   "execution_count": 5,
   "metadata": {},
   "outputs": [],
   "source": [
    "transform = get_transform(img_size=224)"
   ]
  },
  {
   "cell_type": "markdown",
   "metadata": {},
   "source": [
    "### 1.2 text - tokenizer"
   ]
  },
  {
   "cell_type": "code",
   "execution_count": 6,
   "metadata": {},
   "outputs": [],
   "source": [
    "tokenizer_name = \"bert-base-uncased\"\n",
    "\n",
    "tokenizer = AutoTokenizer.from_pretrained(tokenizer_name)"
   ]
  },
  {
   "cell_type": "markdown",
   "metadata": {},
   "source": [
    "### 1.3 data load"
   ]
  },
  {
   "cell_type": "code",
   "execution_count": 7,
   "metadata": {},
   "outputs": [],
   "source": [
    "img_dir = \"../data/images\"\n",
    "caption_path = \"../data/captions.csv\"\n",
    "info_df = pd.read_csv(caption_path, encoding_errors=\"ignore\")"
   ]
  },
  {
   "cell_type": "code",
   "execution_count": 8,
   "metadata": {},
   "outputs": [],
   "source": [
    "info_df[\"image_path\"] = info_df[\"image_name\"].apply(\n",
    "    lambda row: f\"{row.split('_')[0]}/{row}\"\n",
    ")"
   ]
  },
  {
   "cell_type": "code",
   "execution_count": 13,
   "metadata": {},
   "outputs": [],
   "source": [
    "game_list = sorted(set(info_df[\"label_game\"]))\n",
    "game_to_idx = {game: idx for idx, game in enumerate(game_list)}\n",
    "idx_to_game = {idx: game for game, idx in game_to_idx.items()}\n",
    "\n",
    "genre_list = sorted(set(info_df[\"label_genre\"]))\n",
    "genre_to_idx = {genre: idx for idx, genre in enumerate(genre_list)}\n",
    "idx_to_genre = {idx: genre for genre, idx in genre_to_idx.items()}"
   ]
  },
  {
   "cell_type": "code",
   "execution_count": 14,
   "metadata": {},
   "outputs": [],
   "source": [
    "info_df[\"game_class\"] = info_df[\"label_game\"].apply(lambda row: game_to_idx[row])\n",
    "info_df[\"genre_class\"] = info_df[\"label_genre\"].apply(lambda row: genre_to_idx[row])"
   ]
  },
  {
   "cell_type": "code",
   "execution_count": 15,
   "metadata": {},
   "outputs": [
    {
     "data": {
      "text/html": [
       "<div>\n",
       "<style scoped>\n",
       "    .dataframe tbody tr th:only-of-type {\n",
       "        vertical-align: middle;\n",
       "    }\n",
       "\n",
       "    .dataframe tbody tr th {\n",
       "        vertical-align: top;\n",
       "    }\n",
       "\n",
       "    .dataframe thead th {\n",
       "        text-align: right;\n",
       "    }\n",
       "</style>\n",
       "<table border=\"1\" class=\"dataframe\">\n",
       "  <thead>\n",
       "    <tr style=\"text-align: right;\">\n",
       "      <th></th>\n",
       "      <th>image_name</th>\n",
       "      <th>caption</th>\n",
       "      <th>label_game</th>\n",
       "      <th>label_genre</th>\n",
       "      <th>image_path</th>\n",
       "      <th>game_class</th>\n",
       "      <th>genre_class</th>\n",
       "    </tr>\n",
       "  </thead>\n",
       "  <tbody>\n",
       "    <tr>\n",
       "      <th>0</th>\n",
       "      <td>bingsu_img_0.png</td>\n",
       "      <td>The image shows a lobby from the popular multi...</td>\n",
       "      <td>among_us</td>\n",
       "      <td>strategy</td>\n",
       "      <td>bingsu/bingsu_img_0.png</td>\n",
       "      <td>0</td>\n",
       "      <td>4</td>\n",
       "    </tr>\n",
       "    <tr>\n",
       "      <th>1</th>\n",
       "      <td>bingsu_img_0.png</td>\n",
       "      <td>The lobby in \"Among Us\" is depicted in the ima...</td>\n",
       "      <td>among_us</td>\n",
       "      <td>strategy</td>\n",
       "      <td>bingsu/bingsu_img_0.png</td>\n",
       "      <td>0</td>\n",
       "      <td>4</td>\n",
       "    </tr>\n",
       "    <tr>\n",
       "      <th>2</th>\n",
       "      <td>bingsu_img_0.png</td>\n",
       "      <td>The lobby in the image is from the well-known ...</td>\n",
       "      <td>among_us</td>\n",
       "      <td>strategy</td>\n",
       "      <td>bingsu/bingsu_img_0.png</td>\n",
       "      <td>0</td>\n",
       "      <td>4</td>\n",
       "    </tr>\n",
       "    <tr>\n",
       "      <th>3</th>\n",
       "      <td>bingsu_img_0.png</td>\n",
       "      <td>The picture displays a waiting area in the wel...</td>\n",
       "      <td>among_us</td>\n",
       "      <td>strategy</td>\n",
       "      <td>bingsu/bingsu_img_0.png</td>\n",
       "      <td>0</td>\n",
       "      <td>4</td>\n",
       "    </tr>\n",
       "    <tr>\n",
       "      <th>4</th>\n",
       "      <td>bingsu_img_0.png</td>\n",
       "      <td>The picture displays a lobby in the well-liked...</td>\n",
       "      <td>among_us</td>\n",
       "      <td>strategy</td>\n",
       "      <td>bingsu/bingsu_img_0.png</td>\n",
       "      <td>0</td>\n",
       "      <td>4</td>\n",
       "    </tr>\n",
       "  </tbody>\n",
       "</table>\n",
       "</div>"
      ],
      "text/plain": [
       "         image_name                                            caption  \\\n",
       "0  bingsu_img_0.png  The image shows a lobby from the popular multi...   \n",
       "1  bingsu_img_0.png  The lobby in \"Among Us\" is depicted in the ima...   \n",
       "2  bingsu_img_0.png  The lobby in the image is from the well-known ...   \n",
       "3  bingsu_img_0.png  The picture displays a waiting area in the wel...   \n",
       "4  bingsu_img_0.png  The picture displays a lobby in the well-liked...   \n",
       "\n",
       "  label_game label_genre               image_path  game_class  genre_class  \n",
       "0   among_us    strategy  bingsu/bingsu_img_0.png           0            4  \n",
       "1   among_us    strategy  bingsu/bingsu_img_0.png           0            4  \n",
       "2   among_us    strategy  bingsu/bingsu_img_0.png           0            4  \n",
       "3   among_us    strategy  bingsu/bingsu_img_0.png           0            4  \n",
       "4   among_us    strategy  bingsu/bingsu_img_0.png           0            4  "
      ]
     },
     "execution_count": 15,
     "metadata": {},
     "output_type": "execute_result"
    }
   ],
   "source": [
    "info_df.head()"
   ]
  },
  {
   "cell_type": "markdown",
   "metadata": {},
   "source": [
    "### 1.4 img & text -  preprocess"
   ]
  },
  {
   "cell_type": "code",
   "execution_count": 16,
   "metadata": {},
   "outputs": [],
   "source": [
    "idx = random.choice(range(len(info_df)))\n",
    "\n",
    "image_name = info_df.iloc[idx][\"image_name\"]\n",
    "caption = info_df.iloc[idx][\"caption\"]\n",
    "game_name = info_df.iloc[idx][\"label_game\"]\n",
    "genre_name = info_df.iloc[idx][\"label_genre\"]\n",
    "\n",
    "game_label = info_df.iloc[idx][\"game_class\"]\n",
    "genre_label = info_df.iloc[idx][\"genre_class\"]\n",
    "image_path = info_df.iloc[idx][\"image_path\"]"
   ]
  },
  {
   "cell_type": "code",
   "execution_count": 17,
   "metadata": {},
   "outputs": [],
   "source": [
    "max_length = 200\n",
    "\n",
    "captions = info_df[\"caption\"].tolist()\n",
    "encoded_captions = tokenizer(\n",
    "    captions, padding=True, truncation=True, max_length=max_length, return_tensors=\"pt\"\n",
    ")"
   ]
  },
  {
   "cell_type": "code",
   "execution_count": 18,
   "metadata": {},
   "outputs": [
    {
     "data": {
      "text/plain": [
       "torch.Size([43392, 145])"
      ]
     },
     "execution_count": 18,
     "metadata": {},
     "output_type": "execute_result"
    }
   ],
   "source": [
    "encoded_captions[\"input_ids\"].shape"
   ]
  },
  {
   "cell_type": "code",
   "execution_count": 19,
   "metadata": {},
   "outputs": [],
   "source": [
    "img_path = os.path.join(img_dir, image_path)\n",
    "\n",
    "img = cv2.imread(img_path)\n",
    "img = cv2.cvtColor(img, cv2.COLOR_BGR2RGB)\n",
    "\n",
    "img = transform(image=img)[\"image\"]"
   ]
  },
  {
   "cell_type": "code",
   "execution_count": 20,
   "metadata": {},
   "outputs": [],
   "source": [
    "item = {k: v[idx] for k, v in encoded_captions.items()}\n",
    "item[\"image\"] = img\n",
    "item[\"caption\"] = caption"
   ]
  },
  {
   "cell_type": "markdown",
   "metadata": {},
   "source": [
    "## 2. Dataset - Class"
   ]
  },
  {
   "cell_type": "code",
   "execution_count": 44,
   "metadata": {},
   "outputs": [],
   "source": [
    "class CLIPDataset(Dataset):\n",
    "    def __init__(\n",
    "        self,\n",
    "        df: pd.DataFrame,\n",
    "        img_dir: str,\n",
    "        tokenizer,\n",
    "        transform,\n",
    "        txt_max_length: int = 200,\n",
    "    ):\n",
    "        self.img_dir = img_dir\n",
    "        self.tokenizer = tokenizer\n",
    "        self.transform = transform\n",
    "        self.txt_max_length = txt_max_length\n",
    "\n",
    "        # dataframe\n",
    "        self.data = df\n",
    "        # encoded_captions\n",
    "        captions = self.data[\"caption\"].tolist()\n",
    "        self.encoded_captions = self.tokenizer(\n",
    "            captions,\n",
    "            padding=True,\n",
    "            truncation=True,\n",
    "            max_length=self.txt_max_length,\n",
    "            return_tensors=\"pt\",\n",
    "        )\n",
    "\n",
    "    def __len__(self):\n",
    "        return len(self.data)\n",
    "\n",
    "    def __getitem__(self, idx):\n",
    "        image_name = self.data.iloc[idx][\"image_name\"]\n",
    "        caption = self.data.iloc[idx][\"caption\"]\n",
    "        game_name = self.data.iloc[idx][\"label_game\"]\n",
    "        genre_name = self.data.iloc[idx][\"label_genre\"]\n",
    "        game_label = self.data.iloc[idx][\"game_class\"]\n",
    "        genre_label = self.data.iloc[idx][\"genre_class\"]\n",
    "        image_path = self.data.iloc[idx][\"image_path\"]\n",
    "\n",
    "        # txt prep\n",
    "        item = {k: v[idx] for k, v in self.encoded_captions.items()}\n",
    "\n",
    "        # img prep\n",
    "        img_path = os.path.join(self.img_dir, image_path)\n",
    "\n",
    "        img = cv2.imread(img_path)\n",
    "        img = cv2.cvtColor(img, cv2.COLOR_BGR2RGB)\n",
    "        img = self.transform(image=img)[\"image\"]\n",
    "\n",
    "        item[\"image\"] = img\n",
    "        item[\"game_label\"] = game_label\n",
    "        item[\"genre_label\"] = genre_label\n",
    "\n",
    "        item[\"caption\"] = caption\n",
    "        item[\"game_name\"] = game_name\n",
    "        item[\"genre_name\"] = genre_name\n",
    "\n",
    "        return item"
   ]
  },
  {
   "cell_type": "markdown",
   "metadata": {},
   "source": [
    "## 3. DataModule"
   ]
  },
  {
   "cell_type": "code",
   "execution_count": 45,
   "metadata": {},
   "outputs": [],
   "source": [
    "class CLIPDataModule:\n",
    "    def __init__(\n",
    "        self,\n",
    "        data_path: str,\n",
    "        img_dir: str,\n",
    "        tokenizer_name: str,\n",
    "        img_size: int = 224,\n",
    "        txt_max_length: int = 200,\n",
    "        val_size: float = 0.2,\n",
    "        test_size: float = 0.2,\n",
    "        batch_size: int = 32,\n",
    "        num_workers: int = 4,\n",
    "    ):\n",
    "        self.data_path = data_path\n",
    "        self.img_dir = img_dir\n",
    "        self.tokenizer_name = tokenizer_name\n",
    "        self.img_size = img_size\n",
    "        self.txt_max_length = txt_max_length\n",
    "        self.val_size = val_size\n",
    "        self.test_size = test_size\n",
    "        self.batch_size = batch_size\n",
    "        self.num_workers = num_workers\n",
    "\n",
    "        self.setup()\n",
    "\n",
    "    def setup(self):\n",
    "        # load data\n",
    "        self.df = pd.read_csv(self.data_path, encoding_errors=\"ignore\")\n",
    "        self.df[\"image_path\"] = self.df[\"image_name\"].apply(\n",
    "            lambda row: f\"{row.split('_')[0]}/{row}\"\n",
    "        )\n",
    "\n",
    "        # label_to_index\n",
    "        game_list = sorted(set(self.df[\"label_game\"]))\n",
    "        self.game_to_idx = {game: idx for idx, game in enumerate(game_list)}\n",
    "        self.idx_to_game = {idx: game for game, idx in self.game_to_idx.items()}\n",
    "\n",
    "        genre_list = sorted(set(self.df[\"label_genre\"]))\n",
    "        self.genre_to_idx = {genre: idx for idx, genre in enumerate(genre_list)}\n",
    "        self.idx_to_genre = {idx: genre for genre, idx in self.genre_to_idx.items()}\n",
    "\n",
    "        self.df[\"game_class\"] = self.df[\"label_game\"].apply(\n",
    "            lambda row: self.game_to_idx[row]\n",
    "        )\n",
    "        self.df[\"genre_class\"] = self.df[\"label_genre\"].apply(\n",
    "            lambda row: self.genre_to_idx[row]\n",
    "        )\n",
    "\n",
    "        # tokenizer & transform\n",
    "        self.tokenizer = AutoTokenizer.from_pretrained(self.tokenizer_name)\n",
    "        self.train_transform = get_transform(img_size=self.img_size, stage=\"train\")\n",
    "        self.test_transform = get_transform(img_size=self.img_size, stage=\"test\")\n",
    "\n",
    "        # train/val/test split\n",
    "        train_df, test_df = train_test_split(\n",
    "            self.df, test_size=self.test_size, shuffle=True\n",
    "        )\n",
    "        train_df, val_df = train_test_split(\n",
    "            train_df, test_size=self.test_size, shuffle=True\n",
    "        )\n",
    "\n",
    "        # train/val/test set\n",
    "        self.trainset = CLIPDataset(\n",
    "            train_df,\n",
    "            self.img_dir,\n",
    "            self.tokenizer,\n",
    "            self.train_transform,\n",
    "            self.txt_max_length,\n",
    "        )\n",
    "        self.valset = CLIPDataset(\n",
    "            val_df,\n",
    "            self.img_dir,\n",
    "            self.tokenizer,\n",
    "            self.test_transform,\n",
    "            self.txt_max_length,\n",
    "        )\n",
    "        self.testset = CLIPDataset(\n",
    "            test_df,\n",
    "            self.img_dir,\n",
    "            self.tokenizer,\n",
    "            self.test_transform,\n",
    "            self.txt_max_length,\n",
    "        )\n",
    "\n",
    "    def train_dataloader(self):\n",
    "        return DataLoader(\n",
    "            self.trainset,\n",
    "            batch_size=self.batch_size,\n",
    "            num_workers=self.num_workers,\n",
    "            shuffle=True,\n",
    "        )\n",
    "\n",
    "    def val_dataloader(self):\n",
    "        return DataLoader(\n",
    "            self.valset,\n",
    "            batch_size=self.batch_size,\n",
    "            num_workers=self.num_workers,\n",
    "            shuffle=True,\n",
    "        )\n",
    "\n",
    "    def test_dataloader(self):\n",
    "        return DataLoader(\n",
    "            self.testset,\n",
    "            batch_size=self.batch_size,\n",
    "            num_workers=self.num_workers,\n",
    "            shuffle=False,\n",
    "        )"
   ]
  },
  {
   "cell_type": "code",
   "execution_count": 46,
   "metadata": {},
   "outputs": [],
   "source": [
    "dm_params = {\n",
    "    \"data_path\": \"../data/captions.csv\",\n",
    "    \"img_dir\": \"../data/images/\",\n",
    "    \"tokenizer_name\": \"bert-base-uncased\",\n",
    "    \"img_size\": 224,\n",
    "    \"txt_max_length\": 200,\n",
    "    \"val_size\": 0.2,\n",
    "    \"test_size\": 0.2,\n",
    "    \"batch_size\": 32,\n",
    "    \"num_workers\": 4,\n",
    "}\n",
    "\n",
    "dm = CLIPDataModule(**dm_params)"
   ]
  },
  {
   "cell_type": "code",
   "execution_count": 47,
   "metadata": {},
   "outputs": [],
   "source": [
    "train_batch = next(iter(dm.train_dataloader()))\n",
    "val_batch = next(iter(dm.val_dataloader()))\n",
    "test_batch = next(iter(dm.test_dataloader()))"
   ]
  },
  {
   "cell_type": "code",
   "execution_count": 48,
   "metadata": {},
   "outputs": [
    {
     "data": {
      "text/plain": [
       "tensor([4, 4, 7, 2, 5, 4, 4, 6, 6, 6, 6, 0, 7, 0, 8, 1, 7, 3, 1, 7, 1, 4, 1, 1,\n",
       "        5, 0, 5, 7, 4, 6, 6, 1])"
      ]
     },
     "execution_count": 48,
     "metadata": {},
     "output_type": "execute_result"
    }
   ],
   "source": [
    "train_batch[\"game_label\"]"
   ]
  },
  {
   "cell_type": "code",
   "execution_count": null,
   "metadata": {},
   "outputs": [],
   "source": []
  }
 ],
 "metadata": {
  "kernelspec": {
   "display_name": "Python 3.9.18 ('gclip')",
   "language": "python",
   "name": "python3"
  },
  "language_info": {
   "codemirror_mode": {
    "name": "ipython",
    "version": 3
   },
   "file_extension": ".py",
   "mimetype": "text/x-python",
   "name": "python",
   "nbconvert_exporter": "python",
   "pygments_lexer": "ipython3",
   "version": "3.9.18"
  },
  "orig_nbformat": 4,
  "vscode": {
   "interpreter": {
    "hash": "15b6d287f2a01b064242a5db7155158bf7f3638b6b99c51e9d30d6c2bf5cc073"
   }
  }
 },
 "nbformat": 4,
 "nbformat_minor": 2
}
